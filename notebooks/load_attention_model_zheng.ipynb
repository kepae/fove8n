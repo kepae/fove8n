{
  "nbformat": 4,
  "nbformat_minor": 0,
  "metadata": {
    "colab": {
      "name": "load_attention_model_zheng.ipynb",
      "provenance": [],
      "toc_visible": true
    },
    "kernelspec": {
      "name": "python3",
      "display_name": "Python 3"
    },
    "language_info": {
      "name": "python"
    },
    "accelerator": "GPU",
    "widgets": {
      "application/vnd.jupyter.widget-state+json": {
        "2b73b1348586457bb16facd29cb04c3c": {
          "model_module": "@jupyter-widgets/controls",
          "model_name": "HBoxModel",
          "state": {
            "_view_name": "HBoxView",
            "_dom_classes": [],
            "_model_name": "HBoxModel",
            "_view_module": "@jupyter-widgets/controls",
            "_model_module_version": "1.5.0",
            "_view_count": null,
            "_view_module_version": "1.5.0",
            "box_style": "",
            "layout": "IPY_MODEL_6b54253efea143b0a2c39c7c886c3640",
            "_model_module": "@jupyter-widgets/controls",
            "children": [
              "IPY_MODEL_ecbbd718ce1043249d056e17cfa5e1dd",
              "IPY_MODEL_e0b7ace3a67c4536848a990b7ca9a29b"
            ]
          }
        },
        "6b54253efea143b0a2c39c7c886c3640": {
          "model_module": "@jupyter-widgets/base",
          "model_name": "LayoutModel",
          "state": {
            "_view_name": "LayoutView",
            "grid_template_rows": null,
            "right": null,
            "justify_content": null,
            "_view_module": "@jupyter-widgets/base",
            "overflow": null,
            "_model_module_version": "1.2.0",
            "_view_count": null,
            "flex_flow": null,
            "width": null,
            "min_width": null,
            "border": null,
            "align_items": null,
            "bottom": null,
            "_model_module": "@jupyter-widgets/base",
            "top": null,
            "grid_column": null,
            "overflow_y": null,
            "overflow_x": null,
            "grid_auto_flow": null,
            "grid_area": null,
            "grid_template_columns": null,
            "flex": null,
            "_model_name": "LayoutModel",
            "justify_items": null,
            "grid_row": null,
            "max_height": null,
            "align_content": null,
            "visibility": null,
            "align_self": null,
            "height": null,
            "min_height": null,
            "padding": null,
            "grid_auto_rows": null,
            "grid_gap": null,
            "max_width": null,
            "order": null,
            "_view_module_version": "1.2.0",
            "grid_template_areas": null,
            "object_position": null,
            "object_fit": null,
            "grid_auto_columns": null,
            "margin": null,
            "display": null,
            "left": null
          }
        },
        "ecbbd718ce1043249d056e17cfa5e1dd": {
          "model_module": "@jupyter-widgets/controls",
          "model_name": "FloatProgressModel",
          "state": {
            "_view_name": "ProgressView",
            "style": "IPY_MODEL_975fddfd05f547df87a0a36043e07821",
            "_dom_classes": [],
            "description": "100%",
            "_model_name": "FloatProgressModel",
            "bar_style": "success",
            "max": 87306240,
            "_view_module": "@jupyter-widgets/controls",
            "_model_module_version": "1.5.0",
            "value": 87306240,
            "_view_count": null,
            "_view_module_version": "1.5.0",
            "orientation": "horizontal",
            "min": 0,
            "description_tooltip": null,
            "_model_module": "@jupyter-widgets/controls",
            "layout": "IPY_MODEL_40562a57bd5b4d78a3f779fc763ccc76"
          }
        },
        "e0b7ace3a67c4536848a990b7ca9a29b": {
          "model_module": "@jupyter-widgets/controls",
          "model_name": "HTMLModel",
          "state": {
            "_view_name": "HTMLView",
            "style": "IPY_MODEL_14533b5e1427482184cfe78b9416f7e8",
            "_dom_classes": [],
            "description": "",
            "_model_name": "HTMLModel",
            "placeholder": "​",
            "_view_module": "@jupyter-widgets/controls",
            "_model_module_version": "1.5.0",
            "value": " 83.3M/83.3M [00:15&lt;00:00, 5.62MB/s]",
            "_view_count": null,
            "_view_module_version": "1.5.0",
            "description_tooltip": null,
            "_model_module": "@jupyter-widgets/controls",
            "layout": "IPY_MODEL_e5d186be328f49a78530bdc91a5607c6"
          }
        },
        "975fddfd05f547df87a0a36043e07821": {
          "model_module": "@jupyter-widgets/controls",
          "model_name": "ProgressStyleModel",
          "state": {
            "_view_name": "StyleView",
            "_model_name": "ProgressStyleModel",
            "description_width": "initial",
            "_view_module": "@jupyter-widgets/base",
            "_model_module_version": "1.5.0",
            "_view_count": null,
            "_view_module_version": "1.2.0",
            "bar_color": null,
            "_model_module": "@jupyter-widgets/controls"
          }
        },
        "40562a57bd5b4d78a3f779fc763ccc76": {
          "model_module": "@jupyter-widgets/base",
          "model_name": "LayoutModel",
          "state": {
            "_view_name": "LayoutView",
            "grid_template_rows": null,
            "right": null,
            "justify_content": null,
            "_view_module": "@jupyter-widgets/base",
            "overflow": null,
            "_model_module_version": "1.2.0",
            "_view_count": null,
            "flex_flow": null,
            "width": null,
            "min_width": null,
            "border": null,
            "align_items": null,
            "bottom": null,
            "_model_module": "@jupyter-widgets/base",
            "top": null,
            "grid_column": null,
            "overflow_y": null,
            "overflow_x": null,
            "grid_auto_flow": null,
            "grid_area": null,
            "grid_template_columns": null,
            "flex": null,
            "_model_name": "LayoutModel",
            "justify_items": null,
            "grid_row": null,
            "max_height": null,
            "align_content": null,
            "visibility": null,
            "align_self": null,
            "height": null,
            "min_height": null,
            "padding": null,
            "grid_auto_rows": null,
            "grid_gap": null,
            "max_width": null,
            "order": null,
            "_view_module_version": "1.2.0",
            "grid_template_areas": null,
            "object_position": null,
            "object_fit": null,
            "grid_auto_columns": null,
            "margin": null,
            "display": null,
            "left": null
          }
        },
        "14533b5e1427482184cfe78b9416f7e8": {
          "model_module": "@jupyter-widgets/controls",
          "model_name": "DescriptionStyleModel",
          "state": {
            "_view_name": "StyleView",
            "_model_name": "DescriptionStyleModel",
            "description_width": "",
            "_view_module": "@jupyter-widgets/base",
            "_model_module_version": "1.5.0",
            "_view_count": null,
            "_view_module_version": "1.2.0",
            "_model_module": "@jupyter-widgets/controls"
          }
        },
        "e5d186be328f49a78530bdc91a5607c6": {
          "model_module": "@jupyter-widgets/base",
          "model_name": "LayoutModel",
          "state": {
            "_view_name": "LayoutView",
            "grid_template_rows": null,
            "right": null,
            "justify_content": null,
            "_view_module": "@jupyter-widgets/base",
            "overflow": null,
            "_model_module_version": "1.2.0",
            "_view_count": null,
            "flex_flow": null,
            "width": null,
            "min_width": null,
            "border": null,
            "align_items": null,
            "bottom": null,
            "_model_module": "@jupyter-widgets/base",
            "top": null,
            "grid_column": null,
            "overflow_y": null,
            "overflow_x": null,
            "grid_auto_flow": null,
            "grid_area": null,
            "grid_template_columns": null,
            "flex": null,
            "_model_name": "LayoutModel",
            "justify_items": null,
            "grid_row": null,
            "max_height": null,
            "align_content": null,
            "visibility": null,
            "align_self": null,
            "height": null,
            "min_height": null,
            "padding": null,
            "grid_auto_rows": null,
            "grid_gap": null,
            "max_width": null,
            "order": null,
            "_view_module_version": "1.2.0",
            "grid_template_areas": null,
            "object_position": null,
            "object_fit": null,
            "grid_auto_columns": null,
            "margin": null,
            "display": null,
            "left": null
          }
        }
      }
    }
  },
  "cells": [
    {
      "cell_type": "markdown",
      "metadata": {
        "id": "RdRSTnxPimU1"
      },
      "source": [
        "Note: Change runtime type to GPU."
      ]
    },
    {
      "cell_type": "code",
      "metadata": {
        "colab": {
          "base_uri": "https://localhost:8080/"
        },
        "id": "P39ANQna_oHE",
        "outputId": "681e438c-c63a-4452-d5f5-40be419e88b0"
      },
      "source": [
        "# Better printing.\n",
        "!pip install icecream\n",
        "# Simple Recurrent Units for Highly Parallelizable Recurrence (required by attention-network).\n",
        "!pip install sru\n",
        "# Another torch summary tool.\n",
        "!pip install torchinfo"
      ],
      "execution_count": 1,
      "outputs": [
        {
          "output_type": "stream",
          "text": [
            "Collecting icecream\n",
            "  Downloading https://files.pythonhosted.org/packages/31/cc/5454531fe9ae123720b496fdea806e282843d6e75e5718a5e8b1d8e5c47f/icecream-2.1.0-py2.py3-none-any.whl\n",
            "Collecting asttokens>=2.0.1\n",
            "  Downloading https://files.pythonhosted.org/packages/16/d5/b0ad240c22bba2f4591693b0ca43aae94fbd77fb1e2b107d54fff1462b6f/asttokens-2.0.5-py2.py3-none-any.whl\n",
            "Collecting executing>=0.3.1\n",
            "  Downloading https://files.pythonhosted.org/packages/e1/a6/07d28b53b1fab42985cba6b704d685a60a2e3a5efce4cfaaad42a4494bd8/executing-0.6.0-py2.py3-none-any.whl\n",
            "Collecting colorama>=0.3.9\n",
            "  Downloading https://files.pythonhosted.org/packages/44/98/5b86278fbbf250d239ae0ecb724f8572af1c91f4a11edf4d36a206189440/colorama-0.4.4-py2.py3-none-any.whl\n",
            "Requirement already satisfied: pygments>=2.2.0 in /usr/local/lib/python3.7/dist-packages (from icecream) (2.6.1)\n",
            "Requirement already satisfied: six in /usr/local/lib/python3.7/dist-packages (from asttokens>=2.0.1->icecream) (1.15.0)\n",
            "Installing collected packages: asttokens, executing, colorama, icecream\n",
            "Successfully installed asttokens-2.0.5 colorama-0.4.4 executing-0.6.0 icecream-2.1.0\n",
            "Collecting sru\n",
            "  Downloading https://files.pythonhosted.org/packages/61/58/61244b88eb5a63e1f10f7d4c9eccee960ce22dc99c9beb48982104cb0d99/sru-2.5.1-py3-none-any.whl\n",
            "Collecting ninja\n",
            "\u001b[?25l  Downloading https://files.pythonhosted.org/packages/1d/de/393468f2a37fc2c1dc3a06afc37775e27fde2d16845424141d4da62c686d/ninja-1.10.0.post2-py3-none-manylinux1_x86_64.whl (107kB)\n",
            "\u001b[K     |████████████████████████████████| 112kB 18.3MB/s \n",
            "\u001b[?25hRequirement already satisfied: torch>=1.5.1 in /usr/local/lib/python3.7/dist-packages (from sru) (1.8.1+cu101)\n",
            "Requirement already satisfied: typing-extensions in /usr/local/lib/python3.7/dist-packages (from torch>=1.5.1->sru) (3.7.4.3)\n",
            "Requirement already satisfied: numpy in /usr/local/lib/python3.7/dist-packages (from torch>=1.5.1->sru) (1.19.5)\n",
            "Installing collected packages: ninja, sru\n",
            "Successfully installed ninja-1.10.0.post2 sru-2.5.1\n",
            "Collecting torchinfo\n",
            "  Downloading https://files.pythonhosted.org/packages/58/de/c2bb79cd6bb57e63feed501943cf55a197f25ae25f883ec19901843e466b/torchinfo-0.0.9-py3-none-any.whl\n",
            "Installing collected packages: torchinfo\n",
            "Successfully installed torchinfo-0.0.9\n"
          ],
          "name": "stdout"
        }
      ]
    },
    {
      "cell_type": "code",
      "metadata": {
        "id": "TmWN5nE2I-pH"
      },
      "source": [
        "import os\n",
        "import sys\n",
        "\n",
        "import numpy as np\n",
        "from icecream import ic\n",
        "import torch\n",
        "from torchsummary import summary\n",
        "from torchinfo import summary as torchinfo_summary"
      ],
      "execution_count": 2,
      "outputs": []
    },
    {
      "cell_type": "code",
      "metadata": {
        "colab": {
          "base_uri": "https://localhost:8080/"
        },
        "id": "v8bS7cleJ-LW",
        "outputId": "f7455b69-9e48-4320-a284-ba7d6752f13f"
      },
      "source": [
        "if not os.path.isdir('attention-network'):\n",
        "  !git clone https://github.com/ZhenxingZheng/attention-network\n",
        "\n",
        "sys.path.insert(1,'/content/attention-network')\n",
        "\n",
        "from Models import Spatial_TemporalNet"
      ],
      "execution_count": 3,
      "outputs": [
        {
          "output_type": "stream",
          "text": [
            "Cloning into 'attention-network'...\n",
            "remote: Enumerating objects: 64, done.\u001b[K\n",
            "remote: Counting objects: 100% (64/64), done.\u001b[K\n",
            "remote: Compressing objects: 100% (62/62), done.\u001b[K\n",
            "remote: Total 64 (delta 27), reused 0 (delta 0), pack-reused 0\u001b[K\n",
            "Unpacking objects: 100% (64/64), done.\n"
          ],
          "name": "stdout"
        }
      ]
    },
    {
      "cell_type": "code",
      "metadata": {
        "colab": {
          "base_uri": "https://localhost:8080/"
        },
        "id": "FufYA0v4Syn4",
        "outputId": "7cb768d0-4f57-4107-ca48-3c62cca7f840"
      },
      "source": [
        "# Download the pre-trained model.\n",
        "if not os.path.isfile('kinetics-tnnls.pkl'):\n",
        "  !wget https://www.dropbox.com/s/y7qy1e8g0luciy7/kinetics-tnnls.pkl"
      ],
      "execution_count": 4,
      "outputs": [
        {
          "output_type": "stream",
          "text": [
            "--2021-05-01 01:29:06--  https://www.dropbox.com/s/y7qy1e8g0luciy7/kinetics-tnnls.pkl\n",
            "Resolving www.dropbox.com (www.dropbox.com)... 162.125.6.18, 2620:100:6019:18::a27d:412\n",
            "Connecting to www.dropbox.com (www.dropbox.com)|162.125.6.18|:443... connected.\n",
            "HTTP request sent, awaiting response... 301 Moved Permanently\n",
            "Location: /s/raw/y7qy1e8g0luciy7/kinetics-tnnls.pkl [following]\n",
            "--2021-05-01 01:29:06--  https://www.dropbox.com/s/raw/y7qy1e8g0luciy7/kinetics-tnnls.pkl\n",
            "Reusing existing connection to www.dropbox.com:443.\n",
            "HTTP request sent, awaiting response... 302 Found\n",
            "Location: https://ucf3991ff3d3c552271921863858.dl.dropboxusercontent.com/cd/0/inline/BNrtjM2ZIUgvelMfaszlPdllmACFdJvICjP_PHJztix2-ItonX4paJ_s-dJcx-zpSXbPtCw6-ZKA6UyOgw4nfHk70tTi_tif8FAyNN4L33E5DMsuaVtIvXj-Qb4QarXSlRhi4sYnGUqXp4tFaUhVTe_l/file# [following]\n",
            "--2021-05-01 01:29:07--  https://ucf3991ff3d3c552271921863858.dl.dropboxusercontent.com/cd/0/inline/BNrtjM2ZIUgvelMfaszlPdllmACFdJvICjP_PHJztix2-ItonX4paJ_s-dJcx-zpSXbPtCw6-ZKA6UyOgw4nfHk70tTi_tif8FAyNN4L33E5DMsuaVtIvXj-Qb4QarXSlRhi4sYnGUqXp4tFaUhVTe_l/file\n",
            "Resolving ucf3991ff3d3c552271921863858.dl.dropboxusercontent.com (ucf3991ff3d3c552271921863858.dl.dropboxusercontent.com)... 162.125.6.15, 2620:100:6019:15::a27d:40f\n",
            "Connecting to ucf3991ff3d3c552271921863858.dl.dropboxusercontent.com (ucf3991ff3d3c552271921863858.dl.dropboxusercontent.com)|162.125.6.15|:443... connected.\n",
            "HTTP request sent, awaiting response... 302 Found\n",
            "Location: /cd/0/inline2/BNpDRKc0youmq4lA5UKIsixJsTV9SYvE_sVx2tR-7w2NEa4pqZ6ClWHcZebe8drN5C9JJWT9zhIihunwgsGRNgPZE56q_BDs11D7Trk4vGs_qJWaJ-b3rlSEIQq6v8epavgj_z0f-KVX5L03LHCpIky9pmmIPmgHUAhNdeEw_NtyNt6eBqDJ30lk2O-27sZBWAR9h8NUsiuElhjgbQUHLR0BatJ4MbBXGqbxtPb7xnv9sXNSc339kT6O4y7rOxXHSTkS0AOssNSyOVBwaDD5s57cN2e11zYyJ84MaaDoV5WYDWM3jlJWuFwJW-agCVh4BWJb1BEL2S98Jdb0uoep-6DWp_955oyPLa8HQswpWxpsinTqX5LHiZ7ILYhV6kdiem0/file [following]\n",
            "--2021-05-01 01:29:07--  https://ucf3991ff3d3c552271921863858.dl.dropboxusercontent.com/cd/0/inline2/BNpDRKc0youmq4lA5UKIsixJsTV9SYvE_sVx2tR-7w2NEa4pqZ6ClWHcZebe8drN5C9JJWT9zhIihunwgsGRNgPZE56q_BDs11D7Trk4vGs_qJWaJ-b3rlSEIQq6v8epavgj_z0f-KVX5L03LHCpIky9pmmIPmgHUAhNdeEw_NtyNt6eBqDJ30lk2O-27sZBWAR9h8NUsiuElhjgbQUHLR0BatJ4MbBXGqbxtPb7xnv9sXNSc339kT6O4y7rOxXHSTkS0AOssNSyOVBwaDD5s57cN2e11zYyJ84MaaDoV5WYDWM3jlJWuFwJW-agCVh4BWJb1BEL2S98Jdb0uoep-6DWp_955oyPLa8HQswpWxpsinTqX5LHiZ7ILYhV6kdiem0/file\n",
            "Reusing existing connection to ucf3991ff3d3c552271921863858.dl.dropboxusercontent.com:443.\n",
            "HTTP request sent, awaiting response... 200 OK\n",
            "Length: 202113142 (193M) [application/octet-stream]\n",
            "Saving to: ‘kinetics-tnnls.pkl’\n",
            "\n",
            "kinetics-tnnls.pkl  100%[===================>] 192.75M  98.2MB/s    in 2.0s    \n",
            "\n",
            "2021-05-01 01:29:10 (98.2 MB/s) - ‘kinetics-tnnls.pkl’ saved [202113142/202113142]\n",
            "\n"
          ],
          "name": "stdout"
        }
      ]
    },
    {
      "cell_type": "code",
      "metadata": {
        "colab": {
          "base_uri": "https://localhost:8080/",
          "height": 140,
          "referenced_widgets": [
            "2b73b1348586457bb16facd29cb04c3c",
            "6b54253efea143b0a2c39c7c886c3640",
            "ecbbd718ce1043249d056e17cfa5e1dd",
            "e0b7ace3a67c4536848a990b7ca9a29b",
            "975fddfd05f547df87a0a36043e07821",
            "40562a57bd5b4d78a3f779fc763ccc76",
            "14533b5e1427482184cfe78b9416f7e8",
            "e5d186be328f49a78530bdc91a5607c6"
          ]
        },
        "id": "CuJTvS9QNJP-",
        "outputId": "82e78ad4-0d10-41c5-f476-903eb63b706b"
      },
      "source": [
        "# Initialize attention network as suggested by default args:\n",
        "# https://github.com/ZhenxingZheng/attention-network/blob/master/opts.py\n",
        "attn_net = Spatial_TemporalNet(basemodel='resnet34',\n",
        "                               dataset='kinetics',\n",
        "                               segment=1,\n",
        "                               attention_type='all',\n",
        "                               hidden_size=1024,\n",
        "                               img_dim=512,\n",
        "                               kernel_size=7)  # pre-trained param\n",
        "\n",
        "# Required for the model to be loaded below.\n",
        "attn_net = torch.nn.DataParallel(attn_net).cuda()\n",
        "\n",
        "# Load the model as it appears to be done in:\n",
        "# https://github.com/ZhenxingZheng/attention-network/blob/396aa9e12f451a83e4723586ba2bd9c6ac541847/Main.py\n",
        "# NB: Requires GPU environment. Otherwise, add map_location=torch.device('cpu').\n",
        "attn_net.load_state_dict(torch.load('/content/kinetics-tnnls.pkl'))"
      ],
      "execution_count": 5,
      "outputs": [
        {
          "output_type": "stream",
          "text": [
            "Downloading: \"https://download.pytorch.org/models/resnet34-333f7ec4.pth\" to /root/.cache/torch/hub/checkpoints/resnet34-333f7ec4.pth\n"
          ],
          "name": "stderr"
        },
        {
          "output_type": "display_data",
          "data": {
            "application/vnd.jupyter.widget-view+json": {
              "model_id": "2b73b1348586457bb16facd29cb04c3c",
              "version_minor": 0,
              "version_major": 2
            },
            "text/plain": [
              "HBox(children=(FloatProgress(value=0.0, max=87306240.0), HTML(value='')))"
            ]
          },
          "metadata": {
            "tags": []
          }
        },
        {
          "output_type": "stream",
          "text": [
            "\n",
            "using all attention  for action recognition\n"
          ],
          "name": "stdout"
        },
        {
          "output_type": "execute_result",
          "data": {
            "text/plain": [
              "<All keys matched successfully>"
            ]
          },
          "metadata": {
            "tags": []
          },
          "execution_count": 5
        }
      ]
    },
    {
      "cell_type": "code",
      "metadata": {
        "colab": {
          "base_uri": "https://localhost:8080/"
        },
        "id": "uKw_cBdXNiay",
        "outputId": "f30395d2-120b-4748-db7e-d6800a33cb78"
      },
      "source": [
        "# print(attn_net)\n",
        "# network has multiple outputs:\n",
        "# output_average, output_auto, output_learned, output = net(input)\n",
        "\n",
        "# can't use regular torchsummary, as this pre-trained model has multiple outputs\n",
        "# summary(attn_net, (3, 224, 224))\n",
        "torchinfo_summary(attn_net, (100, 3, 224, 224), depth=7)"
      ],
      "execution_count": 6,
      "outputs": [
        {
          "output_type": "execute_result",
          "data": {
            "text/plain": [
              "=========================================================================================================\n",
              "Layer (type:depth-idx)                                  Output Shape              Param #\n",
              "=========================================================================================================\n",
              "├─Spatial_TemporalNet: 1-1                              [100, 600]                --\n",
              "|    └─Spatial_Net: 2-1                                 [100, 512, 7, 7]          --\n",
              "|    |    └─Sequential: 3-1                             [100, 512, 7, 7]          --\n",
              "|    |    |    └─Conv2d: 4-1                            [100, 64, 112, 112]       9,408\n",
              "|    |    |    └─BatchNorm2d: 4-2                       [100, 64, 112, 112]       128\n",
              "|    |    |    └─ReLU: 4-3                              [100, 64, 112, 112]       --\n",
              "|    |    |    └─MaxPool2d: 4-4                         [100, 64, 56, 56]         --\n",
              "|    |    |    └─Sequential: 4-5                        [100, 64, 56, 56]         --\n",
              "|    |    |    |    └─BasicBlock: 5-1                   [100, 64, 56, 56]         --\n",
              "|    |    |    |    |    └─Conv2d: 6-1                  [100, 64, 56, 56]         36,864\n",
              "|    |    |    |    |    └─BatchNorm2d: 6-2             [100, 64, 56, 56]         128\n",
              "|    |    |    |    |    └─ReLU: 6-3                    [100, 64, 56, 56]         --\n",
              "|    |    |    |    |    └─Conv2d: 6-4                  [100, 64, 56, 56]         36,864\n",
              "|    |    |    |    |    └─BatchNorm2d: 6-5             [100, 64, 56, 56]         128\n",
              "|    |    |    |    |    └─ReLU: 6-6                    [100, 64, 56, 56]         --\n",
              "|    |    |    |    └─BasicBlock: 5-2                   [100, 64, 56, 56]         --\n",
              "|    |    |    |    |    └─Conv2d: 6-7                  [100, 64, 56, 56]         36,864\n",
              "|    |    |    |    |    └─BatchNorm2d: 6-8             [100, 64, 56, 56]         128\n",
              "|    |    |    |    |    └─ReLU: 6-9                    [100, 64, 56, 56]         --\n",
              "|    |    |    |    |    └─Conv2d: 6-10                 [100, 64, 56, 56]         36,864\n",
              "|    |    |    |    |    └─BatchNorm2d: 6-11            [100, 64, 56, 56]         128\n",
              "|    |    |    |    |    └─ReLU: 6-12                   [100, 64, 56, 56]         --\n",
              "|    |    |    |    └─BasicBlock: 5-3                   [100, 64, 56, 56]         --\n",
              "|    |    |    |    |    └─Conv2d: 6-13                 [100, 64, 56, 56]         36,864\n",
              "|    |    |    |    |    └─BatchNorm2d: 6-14            [100, 64, 56, 56]         128\n",
              "|    |    |    |    |    └─ReLU: 6-15                   [100, 64, 56, 56]         --\n",
              "|    |    |    |    |    └─Conv2d: 6-16                 [100, 64, 56, 56]         36,864\n",
              "|    |    |    |    |    └─BatchNorm2d: 6-17            [100, 64, 56, 56]         128\n",
              "|    |    |    |    |    └─ReLU: 6-18                   [100, 64, 56, 56]         --\n",
              "|    |    |    └─Sequential: 4-6                        [100, 128, 28, 28]        --\n",
              "|    |    |    |    └─BasicBlock: 5-4                   [100, 128, 28, 28]        --\n",
              "|    |    |    |    |    └─Conv2d: 6-19                 [100, 128, 28, 28]        73,728\n",
              "|    |    |    |    |    └─BatchNorm2d: 6-20            [100, 128, 28, 28]        256\n",
              "|    |    |    |    |    └─ReLU: 6-21                   [100, 128, 28, 28]        --\n",
              "|    |    |    |    |    └─Conv2d: 6-22                 [100, 128, 28, 28]        147,456\n",
              "|    |    |    |    |    └─BatchNorm2d: 6-23            [100, 128, 28, 28]        256\n",
              "|    |    |    |    |    └─Sequential: 6-24             [100, 128, 28, 28]        --\n",
              "|    |    |    |    |    |    └─Conv2d: 7-1             [100, 128, 28, 28]        8,192\n",
              "|    |    |    |    |    |    └─BatchNorm2d: 7-2        [100, 128, 28, 28]        256\n",
              "|    |    |    |    |    └─ReLU: 6-25                   [100, 128, 28, 28]        --\n",
              "|    |    |    |    └─BasicBlock: 5-5                   [100, 128, 28, 28]        --\n",
              "|    |    |    |    |    └─Conv2d: 6-26                 [100, 128, 28, 28]        147,456\n",
              "|    |    |    |    |    └─BatchNorm2d: 6-27            [100, 128, 28, 28]        256\n",
              "|    |    |    |    |    └─ReLU: 6-28                   [100, 128, 28, 28]        --\n",
              "|    |    |    |    |    └─Conv2d: 6-29                 [100, 128, 28, 28]        147,456\n",
              "|    |    |    |    |    └─BatchNorm2d: 6-30            [100, 128, 28, 28]        256\n",
              "|    |    |    |    |    └─ReLU: 6-31                   [100, 128, 28, 28]        --\n",
              "|    |    |    |    └─BasicBlock: 5-6                   [100, 128, 28, 28]        --\n",
              "|    |    |    |    |    └─Conv2d: 6-32                 [100, 128, 28, 28]        147,456\n",
              "|    |    |    |    |    └─BatchNorm2d: 6-33            [100, 128, 28, 28]        256\n",
              "|    |    |    |    |    └─ReLU: 6-34                   [100, 128, 28, 28]        --\n",
              "|    |    |    |    |    └─Conv2d: 6-35                 [100, 128, 28, 28]        147,456\n",
              "|    |    |    |    |    └─BatchNorm2d: 6-36            [100, 128, 28, 28]        256\n",
              "|    |    |    |    |    └─ReLU: 6-37                   [100, 128, 28, 28]        --\n",
              "|    |    |    |    └─BasicBlock: 5-7                   [100, 128, 28, 28]        --\n",
              "|    |    |    |    |    └─Conv2d: 6-38                 [100, 128, 28, 28]        147,456\n",
              "|    |    |    |    |    └─BatchNorm2d: 6-39            [100, 128, 28, 28]        256\n",
              "|    |    |    |    |    └─ReLU: 6-40                   [100, 128, 28, 28]        --\n",
              "|    |    |    |    |    └─Conv2d: 6-41                 [100, 128, 28, 28]        147,456\n",
              "|    |    |    |    |    └─BatchNorm2d: 6-42            [100, 128, 28, 28]        256\n",
              "|    |    |    |    |    └─ReLU: 6-43                   [100, 128, 28, 28]        --\n",
              "|    |    |    └─Sequential: 4-7                        [100, 256, 14, 14]        --\n",
              "|    |    |    |    └─BasicBlock: 5-8                   [100, 256, 14, 14]        --\n",
              "|    |    |    |    |    └─Conv2d: 6-44                 [100, 256, 14, 14]        294,912\n",
              "|    |    |    |    |    └─BatchNorm2d: 6-45            [100, 256, 14, 14]        512\n",
              "|    |    |    |    |    └─ReLU: 6-46                   [100, 256, 14, 14]        --\n",
              "|    |    |    |    |    └─Conv2d: 6-47                 [100, 256, 14, 14]        589,824\n",
              "|    |    |    |    |    └─BatchNorm2d: 6-48            [100, 256, 14, 14]        512\n",
              "|    |    |    |    |    └─Sequential: 6-49             [100, 256, 14, 14]        --\n",
              "|    |    |    |    |    |    └─Conv2d: 7-3             [100, 256, 14, 14]        32,768\n",
              "|    |    |    |    |    |    └─BatchNorm2d: 7-4        [100, 256, 14, 14]        512\n",
              "|    |    |    |    |    └─ReLU: 6-50                   [100, 256, 14, 14]        --\n",
              "|    |    |    |    └─BasicBlock: 5-9                   [100, 256, 14, 14]        --\n",
              "|    |    |    |    |    └─Conv2d: 6-51                 [100, 256, 14, 14]        589,824\n",
              "|    |    |    |    |    └─BatchNorm2d: 6-52            [100, 256, 14, 14]        512\n",
              "|    |    |    |    |    └─ReLU: 6-53                   [100, 256, 14, 14]        --\n",
              "|    |    |    |    |    └─Conv2d: 6-54                 [100, 256, 14, 14]        589,824\n",
              "|    |    |    |    |    └─BatchNorm2d: 6-55            [100, 256, 14, 14]        512\n",
              "|    |    |    |    |    └─ReLU: 6-56                   [100, 256, 14, 14]        --\n",
              "|    |    |    |    └─BasicBlock: 5-10                  [100, 256, 14, 14]        --\n",
              "|    |    |    |    |    └─Conv2d: 6-57                 [100, 256, 14, 14]        589,824\n",
              "|    |    |    |    |    └─BatchNorm2d: 6-58            [100, 256, 14, 14]        512\n",
              "|    |    |    |    |    └─ReLU: 6-59                   [100, 256, 14, 14]        --\n",
              "|    |    |    |    |    └─Conv2d: 6-60                 [100, 256, 14, 14]        589,824\n",
              "|    |    |    |    |    └─BatchNorm2d: 6-61            [100, 256, 14, 14]        512\n",
              "|    |    |    |    |    └─ReLU: 6-62                   [100, 256, 14, 14]        --\n",
              "|    |    |    |    └─BasicBlock: 5-11                  [100, 256, 14, 14]        --\n",
              "|    |    |    |    |    └─Conv2d: 6-63                 [100, 256, 14, 14]        589,824\n",
              "|    |    |    |    |    └─BatchNorm2d: 6-64            [100, 256, 14, 14]        512\n",
              "|    |    |    |    |    └─ReLU: 6-65                   [100, 256, 14, 14]        --\n",
              "|    |    |    |    |    └─Conv2d: 6-66                 [100, 256, 14, 14]        589,824\n",
              "|    |    |    |    |    └─BatchNorm2d: 6-67            [100, 256, 14, 14]        512\n",
              "|    |    |    |    |    └─ReLU: 6-68                   [100, 256, 14, 14]        --\n",
              "|    |    |    |    └─BasicBlock: 5-12                  [100, 256, 14, 14]        --\n",
              "|    |    |    |    |    └─Conv2d: 6-69                 [100, 256, 14, 14]        589,824\n",
              "|    |    |    |    |    └─BatchNorm2d: 6-70            [100, 256, 14, 14]        512\n",
              "|    |    |    |    |    └─ReLU: 6-71                   [100, 256, 14, 14]        --\n",
              "|    |    |    |    |    └─Conv2d: 6-72                 [100, 256, 14, 14]        589,824\n",
              "|    |    |    |    |    └─BatchNorm2d: 6-73            [100, 256, 14, 14]        512\n",
              "|    |    |    |    |    └─ReLU: 6-74                   [100, 256, 14, 14]        --\n",
              "|    |    |    |    └─BasicBlock: 5-13                  [100, 256, 14, 14]        --\n",
              "|    |    |    |    |    └─Conv2d: 6-75                 [100, 256, 14, 14]        589,824\n",
              "|    |    |    |    |    └─BatchNorm2d: 6-76            [100, 256, 14, 14]        512\n",
              "|    |    |    |    |    └─ReLU: 6-77                   [100, 256, 14, 14]        --\n",
              "|    |    |    |    |    └─Conv2d: 6-78                 [100, 256, 14, 14]        589,824\n",
              "|    |    |    |    |    └─BatchNorm2d: 6-79            [100, 256, 14, 14]        512\n",
              "|    |    |    |    |    └─ReLU: 6-80                   [100, 256, 14, 14]        --\n",
              "|    |    |    └─Sequential: 4-8                        [100, 512, 7, 7]          --\n",
              "|    |    |    |    └─BasicBlock: 5-14                  [100, 512, 7, 7]          --\n",
              "|    |    |    |    |    └─Conv2d: 6-81                 [100, 512, 7, 7]          1,179,648\n",
              "|    |    |    |    |    └─BatchNorm2d: 6-82            [100, 512, 7, 7]          1,024\n",
              "|    |    |    |    |    └─ReLU: 6-83                   [100, 512, 7, 7]          --\n",
              "|    |    |    |    |    └─Conv2d: 6-84                 [100, 512, 7, 7]          2,359,296\n",
              "|    |    |    |    |    └─BatchNorm2d: 6-85            [100, 512, 7, 7]          1,024\n",
              "|    |    |    |    |    └─Sequential: 6-86             [100, 512, 7, 7]          --\n",
              "|    |    |    |    |    |    └─Conv2d: 7-5             [100, 512, 7, 7]          131,072\n",
              "|    |    |    |    |    |    └─BatchNorm2d: 7-6        [100, 512, 7, 7]          1,024\n",
              "|    |    |    |    |    └─ReLU: 6-87                   [100, 512, 7, 7]          --\n",
              "|    |    |    |    └─BasicBlock: 5-15                  [100, 512, 7, 7]          --\n",
              "|    |    |    |    |    └─Conv2d: 6-88                 [100, 512, 7, 7]          2,359,296\n",
              "|    |    |    |    |    └─BatchNorm2d: 6-89            [100, 512, 7, 7]          1,024\n",
              "|    |    |    |    |    └─ReLU: 6-90                   [100, 512, 7, 7]          --\n",
              "|    |    |    |    |    └─Conv2d: 6-91                 [100, 512, 7, 7]          2,359,296\n",
              "|    |    |    |    |    └─BatchNorm2d: 6-92            [100, 512, 7, 7]          1,024\n",
              "|    |    |    |    |    └─ReLU: 6-93                   [100, 512, 7, 7]          --\n",
              "|    |    |    |    └─BasicBlock: 5-16                  [100, 512, 7, 7]          --\n",
              "|    |    |    |    |    └─Conv2d: 6-94                 [100, 512, 7, 7]          2,359,296\n",
              "|    |    |    |    |    └─BatchNorm2d: 6-95            [100, 512, 7, 7]          1,024\n",
              "|    |    |    |    |    └─ReLU: 6-96                   [100, 512, 7, 7]          --\n",
              "|    |    |    |    |    └─Conv2d: 6-97                 [100, 512, 7, 7]          2,359,296\n",
              "|    |    |    |    |    └─BatchNorm2d: 6-98            [100, 512, 7, 7]          1,024\n",
              "|    |    |    |    |    └─ReLU: 6-99                   [100, 512, 7, 7]          --\n",
              "|    └─Temporal_Net: 2-2                                [100, 600]                --\n",
              "|    |    └─Attention_average: 3-2                      [100, 1, 512]             --\n",
              "|    |    └─Recurrent_model: 3-3                        [100, 600]                --\n",
              "|    |    |    └─SRU: 4-9                               [1, 100, 1024]            --\n",
              "|    |    |    |    └─ModuleList: 5                     []                        --\n",
              "|    |    |    |    |    └─SRUCell: 6-100               [1, 100, 1024]            2,101,248\n",
              "|    |    |    |    |    └─SRUCell: 6-101               [1, 100, 1024]            3,149,824\n",
              "|    |    |    |    |    └─SRUCell: 6-102               [1, 100, 1024]            3,149,824\n",
              "|    |    |    └─Dropout: 4-10                          [1, 100, 1024]            --\n",
              "|    |    |    └─Linear: 4-11                           [1, 100, 600]             615,000\n",
              "|    |    └─Attentnion_auto: 3-4                        [100, 1, 512]             --\n",
              "|    |    |    └─Conv2d: 4-12                           [100, 1, 7, 7]            2\n",
              "|    |    └─Recurrent_model: 3-5                        [100, 600]                --\n",
              "|    |    |    └─SRU: 4-13                              [1, 100, 1024]            --\n",
              "|    |    |    |    └─ModuleList: 5                     []                        --\n",
              "|    |    |    |    |    └─SRUCell: 6-103               [1, 100, 1024]            3,149,824\n",
              "|    |    |    |    |    └─SRUCell: 6-104               [1, 100, 1024]            3,149,824\n",
              "|    |    |    |    |    └─SRUCell: 6-105               [1, 100, 1024]            3,149,824\n",
              "|    |    |    └─Dropout: 4-14                          [1, 100, 1024]            --\n",
              "|    |    |    └─Linear: 4-15                           [1, 100, 600]             615,000\n",
              "|    |    └─Attention_learned: 3-6                      [100, 1, 512]             --\n",
              "|    |    |    └─Sequential: 4-16                       [100, 49, 1]              --\n",
              "|    |    |    |    └─Linear: 5-17                      [100, 49, 128]            65,664\n",
              "|    |    |    |    └─Tanh: 5-18                        [100, 49, 128]            --\n",
              "|    |    |    |    └─Linear: 5-19                      [100, 49, 1]              129\n",
              "|    |    |    |    └─Tanh: 5-20                        [100, 49, 1]              --\n",
              "|    |    └─Recurrent_model: 3-7                        [100, 600]                --\n",
              "|    |    |    └─SRU: 4-17                              [1, 100, 1024]            --\n",
              "|    |    |    |    └─ModuleList: 5                     []                        --\n",
              "|    |    |    |    |    └─SRUCell: 6-106               [1, 100, 1024]            3,149,824\n",
              "|    |    |    |    |    └─SRUCell: 6-107               [1, 100, 1024]            3,149,824\n",
              "|    |    |    |    |    └─SRUCell: 6-108               [1, 100, 1024]            3,149,824\n",
              "|    |    |    └─Dropout: 4-18                          [1, 100, 1024]            --\n",
              "|    |    |    └─Linear: 4-19                           [1, 100, 600]             615,000\n",
              "=========================================================================================================\n",
              "Total params: 50,495,307\n",
              "Trainable params: 50,495,307\n",
              "Non-trainable params: 0\n",
              "Total mult-adds (T): 10.81\n",
              "=========================================================================================================\n",
              "Input size (MB): 60.21\n",
              "Forward/backward pass size (MB): 5994.89\n",
              "Params size (MB): 201.98\n",
              "Estimated Total Size (MB): 6257.08\n",
              "========================================================================================================="
            ]
          },
          "metadata": {
            "tags": []
          },
          "execution_count": 6
        }
      ]
    },
    {
      "cell_type": "code",
      "metadata": {
        "colab": {
          "base_uri": "https://localhost:8080/"
        },
        "id": "2ZK2o7TlhsJ8",
        "outputId": "630f95cf-0f7a-4b5e-8307-ac1ee031f68d"
      },
      "source": [
        "faka_data = torch.autograd.Variable(torch.randn(2, 12, 3, 224, 224)).cuda().view(-1, 3, 224, 224)\n",
        "output = attn_net(faka_data)\n",
        "ic(output[0].size(), output[1].size(), output[2].size(), output[3].size())\n",
        "output[0]"
      ],
      "execution_count": 7,
      "outputs": [
        {
          "output_type": "stream",
          "text": [
            "ic| output[0].size(): torch.Size([24, 600])\n",
            "    output[1].size(): torch.Size([24, 600])\n",
            "    output[2].size(): torch.Size([24, 600])\n",
            "    output[3].size(): torch.Size([24, 600])\n"
          ],
          "name": "stderr"
        },
        {
          "output_type": "execute_result",
          "data": {
            "text/plain": [
              "tensor([[ 0.6851,  2.7169,  2.0585,  ...,  2.0774,  0.8687, -6.6654],\n",
              "        [-0.7182,  1.7635,  2.3280,  ...,  0.5655,  3.0825,  1.6397],\n",
              "        [-1.2921, -3.0752, -0.3863,  ..., -0.7206, -0.5377, -2.6047],\n",
              "        ...,\n",
              "        [ 3.8728, -0.2080, -2.2923,  ...,  0.4866, -0.1789, -2.2905],\n",
              "        [ 0.1388,  0.0520, -0.7689,  ..., -0.1901,  1.7421,  1.2032],\n",
              "        [ 2.7553, -1.8898,  4.4638,  ..., -2.2066,  0.3647, -2.0597]],\n",
              "       device='cuda:0', grad_fn=<MeanBackward1>)"
            ]
          },
          "metadata": {
            "tags": []
          },
          "execution_count": 7
        }
      ]
    }
  ]
}